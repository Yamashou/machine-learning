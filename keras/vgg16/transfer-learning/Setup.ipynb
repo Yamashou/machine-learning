{
 "cells": [
  {
   "cell_type": "code",
   "execution_count": null,
   "metadata": {},
   "outputs": [],
   "source": [
    "# 1-1.Download Data from Kaggle\n",
    "import urllib.request\n",
    "\n",
    "url  = \"https://www.kaggle.com/c/dogs-vs-cats-redux-kernels-edition/download/train.zip\" \n",
    "urllib.request.urlretrieve(url, './tmp/train.zip')"
   ]
  },
  {
   "cell_type": "code",
   "execution_count": null,
   "metadata": {
    "scrolled": false
   },
   "outputs": [],
   "source": [
    "# 1-2.Unzip data\n",
    "import zipfile\n",
    "\n",
    "with zipfile.ZipFile('./tmp/train.zip', 'r') as f:\n",
    "    f.extractall('./tmp/')"
   ]
  },
  {
   "cell_type": "code",
   "execution_count": null,
   "metadata": {},
   "outputs": [],
   "source": [
    "# 2. deploy training & validation data\n",
    "import os\n",
    "\n",
    "source_dir = \"./tmp/train\"\n",
    "train_dir = \"./dataset/trainData\"\n",
    "valid_dir = \"./dataset/validationData\"\n",
    "\n",
    "os.makedirs(\"%s/dogs\" % train_dir)\n",
    "os.makedirs(\"%s/cats\" % train_dir)\n",
    "os.makedirs(\"%s/dogs\" % valid_dir)\n",
    "os.makedirs(\"%s/cats\" % valid_dir)\n",
    "\n",
    "# move first 1000 picture to training directory\n",
    "for i in range(1000):\n",
    "    os.rename(\"%s/dog.%d.jpg\" % (source_dir, i + 1), \"%s/dogs/dog%04d.jpg\" % (train_dir, i + 1))\n",
    "    os.rename(\"%s/cat.%d.jpg\" % (source_dir, i + 1), \"%s/cats/cat%04d.jpg\" % (train_dir, i + 1))\n",
    "\n",
    "# move first 400 picture to validation directory\n",
    "for i in range(400):\n",
    "    os.rename(\"%s/dog.%d.jpg\" % (source_dir, 1000 + i + 1), \"%s/dogs/dog%04d.jpg\" % (valid_dir, i + 1))\n",
    "    os.rename(\"%s/cat.%d.jpg\" % (source_dir, 1000 + i + 1), \"%s/cats/cat%04d.jpg\" % (valid_dir, i + 1))\n"
   ]
  }
 ],
 "metadata": {
  "kernelspec": {
   "display_name": "Python [default]",
   "language": "python",
   "name": "python3"
  },
  "language_info": {
   "codemirror_mode": {
    "name": "ipython",
    "version": 3
   },
   "file_extension": ".py",
   "mimetype": "text/x-python",
   "name": "python",
   "nbconvert_exporter": "python",
   "pygments_lexer": "ipython3",
   "version": "3.5.3"
  }
 },
 "nbformat": 4,
 "nbformat_minor": 2
}
